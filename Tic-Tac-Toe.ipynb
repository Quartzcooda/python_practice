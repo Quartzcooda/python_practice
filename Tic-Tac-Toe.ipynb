{
 "cells": [
  {
   "cell_type": "markdown",
   "metadata": {},
   "source": [
    "### Function for printing the board : print_board()"
   ]
  },
  {
   "cell_type": "code",
   "execution_count": 1,
   "metadata": {
    "scrolled": true
   },
   "outputs": [],
   "source": [
    "def print_board(bl):\n",
    "    '''Function to print the board'''\n",
    "    clear_output()\n",
    "    # To clear the display\n",
    "    myl = [3,4,5]\n",
    "    # List created just for iterating to print\n",
    "    dic = {1:'|       |       |       |',2:'_________________________',3:f'|   {bl[1]}   |   {bl[2]}   |   {bl[3]}   |',4:f'|   {bl[4]}   |   {bl[5]}   |   {bl[6]}   |',5:f'|   {bl[7]}   |   {bl[8]}   |   {bl[9]}   |'}\n",
    "    # The elements of the the tictactoe board were assigned in a dictionary for ease in iterating and printing\n",
    "    for n in myl:\n",
    "        print(dic[2]+'\\n'*2+dic[1]+'\\n'+dic[n]+'\\n'+dic[1])\n",
    "    print(dic[2])"
   ]
  },
  {
   "cell_type": "markdown",
   "metadata": {},
   "source": [
    "### Function for printing sample board and rules : sample_board()"
   ]
  },
  {
   "cell_type": "code",
   "execution_count": 2,
   "metadata": {},
   "outputs": [],
   "source": [
    "def sample_rules(sboard):\n",
    "    '''Function to print a sample board to show the allotment of positions on the board'''\n",
    "    myl = [3,4,5]\n",
    "    dic = {1:'|       |       |       |',2:'_________________________',3:f'|   {sboard[1]}   |   {sboard[2]}   |   {sboard[3]}   |',4:f'|   {sboard[4]}   |   {sboard[5]}   |   {sboard[6]}   |',5:f'|   {sboard[7]}   |   {sboard[8]}   |   {sboard[9]}   |'}\n",
    "    for n in myl:\n",
    "        print(dic[2]+'\\n'*2+dic[1]+'\\n'+dic[n]+'\\n'+dic[1])\n",
    "    print(dic[2])\n",
    "    print('The board positions are as shown as above.\\nThe player has to type the board position to place their marker.\\nOnce the position is entered, it cannot be changed later on.\\nDo your best to not make any mistakes.\\nGood luck')"
   ]
  },
  {
   "cell_type": "markdown",
   "metadata": {},
   "source": [
    "### Function for starting the game : game_start()"
   ]
  },
  {
   "cell_type": "code",
   "execution_count": 3,
   "metadata": {},
   "outputs": [],
   "source": [
    "def game_start():\n",
    "    '''Function for getting the game started'''\n",
    "    print('\\033[1m'+\"This is a game of Tic-Tac-Toe.\\n\"+'\\033[0m')\n",
    "    ans = ' '\n",
    "    # This variable will store the answer which will determine whether the game will start or not\n",
    "    while ans.lower() not in 'yn':\n",
    "        # A loop to iterate until required answer is recieved\n",
    "        ans = input('Are you ready to play?\\nType y or n:\\n')\n",
    "        if ans.lower() == 'y':\n",
    "            return ans.lower()\n",
    "        elif ans.lower() == 'n':\n",
    "            pass\n",
    "        else:\n",
    "            print('\\033[1m'+'\\nPlease type the required input\\n'+'\\033[0m')"
   ]
  },
  {
   "cell_type": "markdown",
   "metadata": {},
   "source": [
    "### Function for taking player input : player_input()"
   ]
  },
  {
   "cell_type": "code",
   "execution_count": 4,
   "metadata": {},
   "outputs": [],
   "source": [
    "def player_input():\n",
    "    '''Function for taking in the player\\'s input'''\n",
    "    mark = ' '\n",
    "    # Variable to store the marker of player 1\n",
    "    while mark.upper() not in 'XO':\n",
    "        # This loop will keep on iterating until correct marker is inputted\n",
    "        mark = input('\\nYou are player 1. Would you like to be X or O:\\n')\n",
    "        player1 = mark\n",
    "        if player1.upper() == 'X':\n",
    "            player2 = 'O'\n",
    "        elif player1.upper() == 'O':\n",
    "            player2 = 'X'\n",
    "        else:\n",
    "            print('\\033[1m'+'\\nPlease type either X or O\\n'+'\\033[0m')\n",
    "    print(f'Then player 2 is {player2}')\n",
    "    print('Let\\'s start the game!' )\n",
    "    return mark.upper()"
   ]
  },
  {
   "cell_type": "markdown",
   "metadata": {},
   "source": [
    "### Function for  inputting board position : board_position()"
   ]
  },
  {
   "cell_type": "code",
   "execution_count": 5,
   "metadata": {},
   "outputs": [],
   "source": [
    "def board_position(mark,fboard):\n",
    "    '''Function for inputting the board position of the current player'''\n",
    "    pos = 0\n",
    "    # Variable for storing the position where marker is to be placed on the board\n",
    "    while not 1<=pos<=9:\n",
    "        # Loop will be iterated until a correct position is entered, one which is empty\n",
    "        pos = int(input('Enter the position you want to place at (1-9):\\n'))\n",
    "        if 1<=pos<=9:\n",
    "            while fboard[pos] == 'X' or fboard[pos] == 'O':\n",
    "                print('\\033[1m'+'This position has already been taken\\n'+'\\033[0m')\n",
    "                pos = int(input('Enter the position you want to place at (1-9):\\n'))\n",
    "            fboard[pos] = mark\n",
    "        else:\n",
    "            print('\\033[1m'+'\\nPlease type a value within given range\\n'+'\\033[0m')\n",
    "    return fboard"
   ]
  },
  {
   "cell_type": "markdown",
   "metadata": {},
   "source": [
    "### Function for correct player to go first : correction()"
   ]
  },
  {
   "cell_type": "code",
   "execution_count": 6,
   "metadata": {},
   "outputs": [],
   "source": [
    "def correction(mark,plch):\n",
    "    '''Function for making sure the correct player goes first'''\n",
    "    if plch == 1:\n",
    "        print('\\nPlayer 1 starts\\n')\n",
    "    else:\n",
    "        print('\\nPlayer 2 starts\\n')\n",
    "        # If the player who goes first is player 2, then the marker is changed accordingly as mark stored player 1's marker\n",
    "        if mark.upper() == 'X':\n",
    "            mark = 'O'\n",
    "        else:\n",
    "            mark = 'X'\n",
    "    return mark"
   ]
  },
  {
   "cell_type": "markdown",
   "metadata": {},
   "source": [
    "### Function for checking free space in board"
   ]
  },
  {
   "cell_type": "code",
   "execution_count": 7,
   "metadata": {},
   "outputs": [],
   "source": [
    "def free_space(fboard):\n",
    "    '''Function for checking free space in the board'''\n",
    "    if ' ' in fboard:\n",
    "        a = 0\n",
    "    else:\n",
    "        a = 1\n",
    "    return a"
   ]
  },
  {
   "cell_type": "markdown",
   "metadata": {},
   "source": [
    "###  Function for win condition : wl_conditions()"
   ]
  },
  {
   "cell_type": "code",
   "execution_count": 8,
   "metadata": {},
   "outputs": [],
   "source": [
    "def wl_conditions(bl):\n",
    "    '''Function for defining the winning conditions of the game'''\n",
    "    if bl[1]==bl[2]==bl[3]=='X' or bl[4]==bl[5]==bl[6]=='X' or bl[7]==bl[8]==bl[9]=='X' or bl[1]==bl[4]==bl[7]=='X' or bl[2]==bl[5]==bl[8]=='X' or bl[3]==bl[6]==bl[9]=='X' or bl[1]==bl[5]==bl[9]=='X' or bl[3]==bl[5]==bl[7]=='X':\n",
    "        a = 1\n",
    "        # Player with mark X has won\n",
    "    elif bl[1]==bl[2]==bl[3]=='O' or bl[4]==bl[5]==bl[6]=='O' or bl[7]==bl[8]==bl[9]=='O' or bl[1]==bl[4]==bl[7]=='O' or bl[2]==bl[5]==bl[8]=='O' or bl[3]==bl[6]==bl[9]=='O' or bl[1]==bl[5]==bl[9]=='O' or bl[3]==bl[5]==bl[7]=='O':\n",
    "        a = 2\n",
    "        # Player with mark O has won\n",
    "    else:\n",
    "        a = 0\n",
    "        # No one has won yet\n",
    "    return a"
   ]
  },
  {
   "cell_type": "markdown",
   "metadata": {},
   "source": [
    "### Function for choosing player to go first : choose()"
   ]
  },
  {
   "cell_type": "code",
   "execution_count": 9,
   "metadata": {},
   "outputs": [],
   "source": [
    "def choose():\n",
    "    '''Function for randomly choosing the player to go first'''\n",
    "    plch = randint(1,2)\n",
    "    # If plch is 1 , then its player 1 otherwise it will be player 2\n",
    "    return plch"
   ]
  },
  {
   "cell_type": "markdown",
   "metadata": {},
   "source": [
    "### Function for telling player's chance : player_chance()"
   ]
  },
  {
   "cell_type": "code",
   "execution_count": 10,
   "metadata": {},
   "outputs": [],
   "source": [
    "def player_chance(plch):\n",
    "    '''Function for informing about which player\\'s chance it is'''\n",
    "    if plch == 1:\n",
    "        print('\\nIt\\'s player 1\\'s chance\\n')\n",
    "    else:\n",
    "        print('\\nIt\\'s player 2\\'s chance\\n')"
   ]
  },
  {
   "cell_type": "markdown",
   "metadata": {},
   "source": [
    "### Function for switching between player : player_switch()"
   ]
  },
  {
   "cell_type": "code",
   "execution_count": 11,
   "metadata": {},
   "outputs": [],
   "source": [
    "def player_switch(mark,plch):\n",
    "    '''Function for switching the players'''\n",
    "    # We are going through all the combinations possible with plch and mark and accordingly changing the variables\n",
    "    if plch == 1 and mark == 'X':\n",
    "        mark = 'O'\n",
    "        plch = 2\n",
    "    elif plch == 1 and mark == 'O':\n",
    "        mark = 'X'\n",
    "        plch = 2\n",
    "    elif plch == 2 and mark == 'X':\n",
    "        mark = 'O'\n",
    "        plch = 1\n",
    "    elif plch == 2 and mark == 'O':\n",
    "        mark = 'X'\n",
    "        plch = 1\n",
    "    return (mark,plch)"
   ]
  },
  {
   "cell_type": "markdown",
   "metadata": {},
   "source": [
    "### Function for ending game : ending()"
   ]
  },
  {
   "cell_type": "code",
   "execution_count": 12,
   "metadata": {},
   "outputs": [],
   "source": [
    "def ending():\n",
    "    '''Function for ending the game or replaying the game if told to'''\n",
    "    ans = ' '\n",
    "    # This variable will store the answer for the function and will act according to it\n",
    "    while ans.lower() not in 'yn':\n",
    "        # Loop will iterate until expected answer is typed\n",
    "        ans = input('Do you want to play again? Press y/n\\n')\n",
    "        if ans.lower() == 'y':\n",
    "            # The main funciton is being called here. If the given condition is met infinitely, it will form an infinite loop\n",
    "            tictactoe()\n",
    "        elif ans.lower() == 'n':\n",
    "            print('Thank you for playing!')\n",
    "        else:\n",
    "            print('\\033[1m'+'Please type y/n'+'\\033[0m')"
   ]
  },
  {
   "cell_type": "markdown",
   "metadata": {},
   "source": [
    "### Final function"
   ]
  },
  {
   "cell_type": "code",
   "execution_count": 13,
   "metadata": {},
   "outputs": [],
   "source": [
    "from IPython.display import clear_output\n",
    "from random import randint\n",
    "def tictactoe():\n",
    "    '''Main function for running the Tic-Tac-Toe game'''\n",
    "    fboard = ['@',' ',' ',' ',' ',' ',' ',' ',' ',' ']\n",
    "    # This is the board on which the players will play. It's been holded by space char or ' '\n",
    "    sboard = ['@','1','2','3','4','5','6','7','8','9']\n",
    "    # Its a sample board to show the positioning of the board\n",
    "    startornot = game_start()\n",
    "    if startornot == 'y':\n",
    "        # If player wants to start the game, then this code will be triggered\n",
    "        mark = player_input()\n",
    "        # Taking in the marker of the player to be used later on\n",
    "        sample_rules(sboard)\n",
    "        plch = choose()\n",
    "        # Depending on the value, the player who will go first is decided. The value has been assigned to the player\n",
    "        mark = correction(mark,plch)\n",
    "        while wl_conditions(fboard) == 0 and free_space(fboard) == 0:\n",
    "            # Loop to continue the game till someone wins or till a draw\n",
    "            player_chance(plch)\n",
    "            fboard = board_position(mark,fboard)\n",
    "            # Replacing the placeholder in the board with the marker according to the player\n",
    "            print_board(fboard)\n",
    "            mark,plch = player_switch(mark,plch)\n",
    "            # The player gets switched here and then the loop runs again with the other player playing his turn\n",
    "        if wl_conditions(fboard) == 1:\n",
    "            # If player with marker X wins, then this function will trigger\n",
    "            mark,plch = player_switch(mark,plch)\n",
    "            if plch == 1:\n",
    "                print('Player 1 has won!\\n')\n",
    "            else:\n",
    "                print('Player 2 has won!\\n')\n",
    "        elif wl_conditions(fboard) == 2:\n",
    "            # If player with marker O wins, then this function will trigger\n",
    "            mark,plch = player_switch(mark,plch)\n",
    "            if plch == 1:\n",
    "                print('Player 1 has won!\\n')\n",
    "            else:\n",
    "                print('Player 2 has won!\\n')\n",
    "        else:\n",
    "            # If no one has one then it will be a tie\n",
    "            print('It\\'s a tie!')\n",
    "        ending()"
   ]
  },
  {
   "cell_type": "code",
   "execution_count": 14,
   "metadata": {},
   "outputs": [
    {
     "name": "stdout",
     "output_type": "stream",
     "text": [
      "_________________________\n",
      "\n",
      "|       |       |       |\n",
      "|   X   |       |   O   |\n",
      "|       |       |       |\n",
      "_________________________\n",
      "\n",
      "|       |       |       |\n",
      "|   X   |   O   |   O   |\n",
      "|       |       |       |\n",
      "_________________________\n",
      "\n",
      "|       |       |       |\n",
      "|   O   |       |   X   |\n",
      "|       |       |       |\n",
      "_________________________\n",
      "Player 2 has won!\n",
      "\n",
      "Do you want to play again? Press y/n\n",
      "n\n",
      "Thank you for playing!\n"
     ]
    }
   ],
   "source": [
    "tictactoe()"
   ]
  },
  {
   "cell_type": "code",
   "execution_count": null,
   "metadata": {},
   "outputs": [],
   "source": []
  }
 ],
 "metadata": {
  "kernelspec": {
   "display_name": "Python 3",
   "language": "python",
   "name": "python3"
  },
  "language_info": {
   "codemirror_mode": {
    "name": "ipython",
    "version": 3
   },
   "file_extension": ".py",
   "mimetype": "text/x-python",
   "name": "python",
   "nbconvert_exporter": "python",
   "pygments_lexer": "ipython3",
   "version": "3.7.4"
  }
 },
 "nbformat": 4,
 "nbformat_minor": 2
}
